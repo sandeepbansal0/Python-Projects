{
  "nbformat": 4,
  "nbformat_minor": 0,
  "metadata": {
    "colab": {
      "provenance": []
    },
    "kernelspec": {
      "name": "python3",
      "display_name": "Python 3"
    },
    "language_info": {
      "name": "python"
    }
  },
  "cells": [
    {
      "cell_type": "code",
      "execution_count": 1,
      "metadata": {
        "colab": {
          "base_uri": "https://localhost:8080/"
        },
        "id": "onZpfmNVSpFt",
        "outputId": "f45dac28-c990-4d5f-e32d-bc39e88a6254"
      },
      "outputs": [
        {
          "output_type": "stream",
          "name": "stdout",
          "text": [
            "Which direction would you like to count? up or down? \n",
            "up\n",
            "What would you like the top number to be 10\n",
            "1\n",
            "2\n",
            "3\n",
            "4\n",
            "5\n",
            "6\n",
            "7\n",
            "8\n",
            "9\n",
            "10\n"
          ]
        }
      ],
      "source": [
        "UserInput = input(\"Which direction would you like to count? up or down? \\n\")\n",
        "\n",
        "if UserInput == 'up':\n",
        "  UserInputTop = int(input(\"What would you like the top number to be \"))\n",
        "  for i in range(1, UserInputTop + 1):\n",
        "    print(i)\n",
        "elif UserInput == 'down':\n",
        "  UserInputBottom = int(input(\"What would you like the bottom number to be \"))\n",
        "  for i in range(UserInputBottom, 0, -1):\n",
        "    print(i)\n",
        "else:\n",
        "  print(\"I don't understand\")"
      ]
    },
    {
      "cell_type": "code",
      "source": [],
      "metadata": {
        "id": "paDezzNXTWrk"
      },
      "execution_count": null,
      "outputs": []
    }
  ]
}