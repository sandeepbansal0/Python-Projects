{
  "nbformat": 4,
  "nbformat_minor": 0,
  "metadata": {
    "colab": {
      "provenance": []
    },
    "kernelspec": {
      "name": "python3",
      "display_name": "Python 3"
    },
    "language_info": {
      "name": "python"
    }
  },
  "cells": [
    {
      "cell_type": "code",
      "source": [
        "\"\"\"\n",
        "Write a program that flips a coin 100 times and then tells you the number of heads and tails.\n",
        "\n",
        "\"\"\""
      ],
      "metadata": {
        "id": "c0uexrvdfOat"
      },
      "execution_count": null,
      "outputs": []
    },
    {
      "cell_type": "code",
      "execution_count": 1,
      "metadata": {
        "colab": {
          "base_uri": "https://localhost:8080/",
          "height": 1000
        },
        "id": "HytW7UedfEG1",
        "outputId": "ec01c9e4-e2a2-4635-a54f-eef5297321a5"
      },
      "outputs": [
        {
          "name": "stdout",
          "output_type": "stream",
          "text": [
            "\tWelcome to the Coin Flipper program\n",
            "\n",
            "This program will toss a coin 100 times and tell you the results\n",
            "Press the enter key to begin flipping the coin.\n",
            "\n",
            "\n",
            "Coin flip 1  landed as 'heads'\n",
            "Coin flip 2  landed as 'tails'\n",
            "Coin flip 3  landed as 'heads'\n",
            "Coin flip 4  landed as 'heads'\n",
            "Coin flip 5  landed as 'heads'\n",
            "Coin flip 6  landed as 'tails'\n",
            "Coin flip 7  landed as 'tails'\n",
            "Coin flip 8  landed as 'heads'\n",
            "Coin flip 9  landed as 'tails'\n",
            "Coin flip 10  landed as 'tails'\n",
            "Coin flip 11  landed as 'tails'\n",
            "Coin flip 12  landed as 'heads'\n",
            "Coin flip 13  landed as 'heads'\n",
            "Coin flip 14  landed as 'heads'\n",
            "Coin flip 15  landed as 'tails'\n",
            "Coin flip 16  landed as 'heads'\n",
            "Coin flip 17  landed as 'tails'\n",
            "Coin flip 18  landed as 'heads'\n",
            "Coin flip 19  landed as 'heads'\n",
            "Coin flip 20  landed as 'tails'\n",
            "Coin flip 21  landed as 'heads'\n",
            "Coin flip 22  landed as 'tails'\n",
            "Coin flip 23  landed as 'tails'\n",
            "Coin flip 24  landed as 'heads'\n",
            "Coin flip 25  landed as 'heads'\n",
            "Coin flip 26  landed as 'tails'\n",
            "Coin flip 27  landed as 'heads'\n",
            "Coin flip 28  landed as 'heads'\n",
            "Coin flip 29  landed as 'heads'\n",
            "Coin flip 30  landed as 'tails'\n",
            "Coin flip 31  landed as 'heads'\n",
            "Coin flip 32  landed as 'heads'\n",
            "Coin flip 33  landed as 'heads'\n",
            "Coin flip 34  landed as 'tails'\n",
            "Coin flip 35  landed as 'heads'\n",
            "Coin flip 36  landed as 'heads'\n",
            "Coin flip 37  landed as 'heads'\n",
            "Coin flip 38  landed as 'heads'\n",
            "Coin flip 39  landed as 'tails'\n",
            "Coin flip 40  landed as 'tails'\n",
            "Coin flip 41  landed as 'heads'\n",
            "Coin flip 42  landed as 'heads'\n",
            "Coin flip 43  landed as 'heads'\n",
            "Coin flip 44  landed as 'tails'\n",
            "Coin flip 45  landed as 'tails'\n",
            "Coin flip 46  landed as 'tails'\n",
            "Coin flip 47  landed as 'tails'\n",
            "Coin flip 48  landed as 'heads'\n",
            "Coin flip 49  landed as 'heads'\n",
            "Coin flip 50  landed as 'tails'\n",
            "Coin flip 51  landed as 'tails'\n",
            "Coin flip 52  landed as 'heads'\n",
            "Coin flip 53  landed as 'tails'\n",
            "Coin flip 54  landed as 'tails'\n",
            "Coin flip 55  landed as 'tails'\n",
            "Coin flip 56  landed as 'tails'\n",
            "Coin flip 57  landed as 'heads'\n",
            "Coin flip 58  landed as 'tails'\n",
            "Coin flip 59  landed as 'tails'\n",
            "Coin flip 60  landed as 'tails'\n",
            "Coin flip 61  landed as 'heads'\n",
            "Coin flip 62  landed as 'tails'\n",
            "Coin flip 63  landed as 'heads'\n",
            "Coin flip 64  landed as 'tails'\n",
            "Coin flip 65  landed as 'tails'\n",
            "Coin flip 66  landed as 'heads'\n",
            "Coin flip 67  landed as 'tails'\n",
            "Coin flip 68  landed as 'heads'\n",
            "Coin flip 69  landed as 'heads'\n",
            "Coin flip 70  landed as 'heads'\n",
            "Coin flip 71  landed as 'heads'\n",
            "Coin flip 72  landed as 'tails'\n",
            "Coin flip 73  landed as 'heads'\n",
            "Coin flip 74  landed as 'heads'\n",
            "Coin flip 75  landed as 'tails'\n",
            "Coin flip 76  landed as 'heads'\n",
            "Coin flip 77  landed as 'heads'\n",
            "Coin flip 78  landed as 'heads'\n",
            "Coin flip 79  landed as 'tails'\n",
            "Coin flip 80  landed as 'heads'\n",
            "Coin flip 81  landed as 'heads'\n",
            "Coin flip 82  landed as 'tails'\n",
            "Coin flip 83  landed as 'tails'\n",
            "Coin flip 84  landed as 'tails'\n",
            "Coin flip 85  landed as 'heads'\n",
            "Coin flip 86  landed as 'heads'\n",
            "Coin flip 87  landed as 'heads'\n",
            "Coin flip 88  landed as 'tails'\n",
            "Coin flip 89  landed as 'heads'\n",
            "Coin flip 90  landed as 'tails'\n",
            "Coin flip 91  landed as 'tails'\n",
            "Coin flip 92  landed as 'heads'\n",
            "Coin flip 93  landed as 'heads'\n",
            "Coin flip 94  landed as 'tails'\n",
            "Coin flip 95  landed as 'heads'\n",
            "Coin flip 96  landed as 'heads'\n",
            "Coin flip 97  landed as 'tails'\n",
            "Coin flip 98  landed as 'heads'\n",
            "Coin flip 99  landed as 'tails'\n",
            "Coin flip 100  landed as 'heads'\n",
            "\n",
            "\n",
            "The coin landed as a 'heads' a total of 55 times.\n",
            "The coin landed as a 'tails' a total of 45 times.\n",
            "\n",
            "\n",
            "Press the enter key to exit.\n"
          ]
        },
        {
          "output_type": "execute_result",
          "data": {
            "text/plain": [
              "''"
            ],
            "application/vnd.google.colaboratory.intrinsic+json": {
              "type": "string"
            }
          },
          "metadata": {},
          "execution_count": 1
        }
      ],
      "source": [
        "import random\n",
        "\n",
        "print(\"\\tWelcome to the Coin Flipper program\")\n",
        "print(\"\\nThis program will toss a coin 100 times and tell you the results\")\n",
        "input(\"Press the enter key to begin flipping the coin.\\n\\n\")\n",
        "\n",
        "counter = 1\n",
        "heads = 0\n",
        "tails = 0\n",
        "\n",
        "while counter <=100:\n",
        "    result = random.randint(1,2)\n",
        "    if result == 1:\n",
        "        print(\"Coin flip\", counter, \" landed as 'heads'\")\n",
        "        heads += 1\n",
        "    else:\n",
        "        print(\"Coin flip\", counter, \" landed as 'tails'\")\n",
        "        tails +=1\n",
        "    counter += 1\n",
        "\n",
        "print(\"\\n\\nThe coin landed as a 'heads' a total of\", heads, \"times.\")\n",
        "print(\"The coin landed as a 'tails' a total of\", tails, \"times.\")\n",
        "\n",
        "input(\"\\n\\nPress the enter key to exit.\")"
      ]
    },
    {
      "cell_type": "code",
      "source": [],
      "metadata": {
        "id": "931vxalMfJWf"
      },
      "execution_count": null,
      "outputs": []
    },
    {
      "cell_type": "code",
      "source": [],
      "metadata": {
        "id": "RsWVYXCSfKS4"
      },
      "execution_count": null,
      "outputs": []
    }
  ]
}