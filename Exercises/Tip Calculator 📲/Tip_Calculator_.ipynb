{
  "nbformat": 4,
  "nbformat_minor": 0,
  "metadata": {
    "colab": {
      "provenance": []
    },
    "kernelspec": {
      "name": "python3",
      "display_name": "Python 3"
    },
    "language_info": {
      "name": "python"
    }
  },
  "cells": [
    {
      "cell_type": "code",
      "execution_count": null,
      "metadata": {
        "id": "WV7sK-si9eoG"
      },
      "outputs": [],
      "source": [
        "'''\n",
        "\n",
        "Write a Tipper program where the user enters a restaurant bill total.\n",
        "The program should then display\n",
        "two amounts: a 15 percent tip and a 20 percent tip.\n",
        "\n",
        "'''\n"
      ]
    },
    {
      "cell_type": "code",
      "source": [
        "billTotal = float(input('Enter the total bill '))\n",
        "\n",
        "newTotalplusTip15 = billTotal + (billTotal * 0.15)\n",
        "newTotalplusTip20 = billTotal + (billTotal * 0.20)\n",
        "\n",
        "print(f'The total bill with 15% tip is {newTotalplusTip15}')\n",
        "print(f'The total bill with 20% tip is {newTotalplusTip20}')"
      ],
      "metadata": {
        "colab": {
          "base_uri": "https://localhost:8080/"
        },
        "id": "EcuqsoYc-dRa",
        "outputId": "a9d4296c-c9e7-4f3f-a73b-6c13eb0fd589"
      },
      "execution_count": 5,
      "outputs": [
        {
          "output_type": "stream",
          "name": "stdout",
          "text": [
            "Enter the total bill 25.00\n",
            "The total bill with 15% tip is 28.75\n",
            "The total bill with 20% tip is 30.0\n"
          ]
        }
      ]
    },
    {
      "cell_type": "code",
      "source": [],
      "metadata": {
        "id": "ylrw7_XE-rb7"
      },
      "execution_count": null,
      "outputs": []
    }
  ]
}