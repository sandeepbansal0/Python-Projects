{
  "nbformat": 4,
  "nbformat_minor": 0,
  "metadata": {
    "colab": {
      "provenance": []
    },
    "kernelspec": {
      "name": "python3",
      "display_name": "Python 3"
    },
    "language_info": {
      "name": "python"
    }
  },
  "cells": [
    {
      "cell_type": "code",
      "execution_count": 2,
      "metadata": {
        "colab": {
          "base_uri": "https://localhost:8080/",
          "height": 56
        },
        "id": "iRu3-U4HNuU7",
        "outputId": "a4199b8e-1121-4157-e63f-8623108e6db5"
      },
      "outputs": [
        {
          "output_type": "execute_result",
          "data": {
            "text/plain": [
              "\"\\n\\nAsk the user to type in a number and we'll tell them if its prime or not\\n\\n\""
            ],
            "application/vnd.google.colaboratory.intrinsic+json": {
              "type": "string"
            }
          },
          "metadata": {},
          "execution_count": 2
        }
      ],
      "source": [
        "'''\n",
        "\n",
        "Ask the user to type in a number and we'll tell them if its prime or not\n",
        "\n",
        "'''"
      ]
    },
    {
      "cell_type": "code",
      "source": [
        "PrimeQuestion = int(input(\"\"\"Type in a number and I will tell you if its prime or not \"\"\"))\n",
        "\n",
        "if PrimeQuestion % 2 == 0:\n",
        "  print(\"This is not a prime number\")\n",
        "else:\n",
        "  print(\"This is a prime number\")\n"
      ],
      "metadata": {
        "colab": {
          "base_uri": "https://localhost:8080/"
        },
        "id": "2HILXdd9OuSC",
        "outputId": "7d2f1115-29fb-47f7-e151-f21089290b37"
      },
      "execution_count": 5,
      "outputs": [
        {
          "output_type": "stream",
          "name": "stdout",
          "text": [
            "Type in a number and I will tell you if its prime or not 5\n",
            "This is a prime number\n"
          ]
        }
      ]
    },
    {
      "cell_type": "code",
      "source": [],
      "metadata": {
        "id": "WPB7oEOoPObD"
      },
      "execution_count": null,
      "outputs": []
    }
  ]
}