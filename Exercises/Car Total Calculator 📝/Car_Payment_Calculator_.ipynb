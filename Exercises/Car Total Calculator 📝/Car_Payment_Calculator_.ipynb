{
  "nbformat": 4,
  "nbformat_minor": 0,
  "metadata": {
    "colab": {
      "provenance": []
    },
    "kernelspec": {
      "name": "python3",
      "display_name": "Python 3"
    },
    "language_info": {
      "name": "python"
    }
  },
  "cells": [
    {
      "cell_type": "code",
      "execution_count": 1,
      "metadata": {
        "colab": {
          "base_uri": "https://localhost:8080/",
          "height": 89
        },
        "id": "hnCJHxLSBIdU",
        "outputId": "02fe7db2-22a4-430e-e4f0-b03f6fe92012"
      },
      "outputs": [
        {
          "output_type": "execute_result",
          "data": {
            "text/plain": [
              "'\\n\\nWrite a Car Salesman program where the user enters the base price of a car. \\nThe program should add on a bunch of extra fees such as \\ntax, license, dealer prep, and destination charge. \\nMake tax and license a percent of the base price. \\nThe other fees should be set values. \\nDisplay the actual price of the car once all the extras are applied.\\n\\n'"
            ],
            "application/vnd.google.colaboratory.intrinsic+json": {
              "type": "string"
            }
          },
          "metadata": {},
          "execution_count": 1
        }
      ],
      "source": [
        "\"\"\"\n",
        "\n",
        "Write a Car Salesman program where the user enters the base price of a car.\n",
        "The program should add on a bunch of extra fees such as\n",
        "tax, license, dealer prep, and destination charge.\n",
        "Make tax and license a percent of the base price.\n",
        "The other fees should be set values.\n",
        "Display the actual price of the car once all the extras are applied.\n",
        "\n",
        "\"\"\""
      ]
    },
    {
      "cell_type": "code",
      "source": [
        "# Car Salesman Program\n",
        "\n",
        "# Get the base price from the user\n",
        "base_price = float(input(\"Enter the base price of the car: $\"))\n",
        "\n",
        "tax_rate = 0.07        # 7% tax\n",
        "license_rate = 0.02    # 2% license fee\n",
        "\n",
        "dealer_prep = 500.00       # flat fee in dollars\n",
        "destination_charge = 995.00  # flat fee in dollars\n",
        "\n",
        "tax = base_price * tax_rate\n",
        "license_fee = base_price * license_rate\n",
        "\n",
        "# Calculate total price\n",
        "total_price = base_price + tax + license_fee + dealer_prep + destination_charge\n",
        "\n",
        "# Display results\n",
        "print(\"\\n--- Car Price Breakdown ---\")\n",
        "print(f\"Base Price:            ${base_price:,.2f}\")\n",
        "print(f\"Tax (7%):              ${tax:,.2f}\")\n",
        "print(f\"License (2%):          ${license_fee:,.2f}\")\n",
        "print(f\"Dealer Prep:           ${dealer_prep:,.2f}\")\n",
        "print(f\"Destination Charge:    ${destination_charge:,.2f}\")\n",
        "print(\"-----------------------------\")\n",
        "print(f\"Total Price:           ${total_price:,.2f}\")\n"
      ],
      "metadata": {
        "colab": {
          "base_uri": "https://localhost:8080/"
        },
        "id": "ohUmzf1nBlqa",
        "outputId": "e896f81c-e21b-4c19-e97e-08fc5ecd17f1"
      },
      "execution_count": 2,
      "outputs": [
        {
          "output_type": "stream",
          "name": "stdout",
          "text": [
            "Enter the base price of the car: $30000\n",
            "\n",
            "--- Car Price Breakdown ---\n",
            "Base Price:            $30,000.00\n",
            "Tax (7%):              $2,100.00\n",
            "License (2%):          $600.00\n",
            "Dealer Prep:           $500.00\n",
            "Destination Charge:    $995.00\n",
            "-----------------------------\n",
            "Total Price:           $34,195.00\n"
          ]
        }
      ]
    },
    {
      "cell_type": "code",
      "source": [],
      "metadata": {
        "id": "C7ainu4uCagt"
      },
      "execution_count": null,
      "outputs": []
    }
  ]
}