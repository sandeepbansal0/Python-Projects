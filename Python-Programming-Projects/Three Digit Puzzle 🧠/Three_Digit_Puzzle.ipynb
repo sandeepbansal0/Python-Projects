{
  "nbformat": 4,
  "nbformat_minor": 0,
  "metadata": {
    "colab": {
      "provenance": [],
      "authorship_tag": "ABX9TyPjqSoI5pRPWIClBDcsGJdG",
      "include_colab_link": true
    },
    "kernelspec": {
      "name": "python3",
      "display_name": "Python 3"
    },
    "language_info": {
      "name": "python"
    }
  },
  "cells": [
    {
      "cell_type": "markdown",
      "metadata": {
        "id": "view-in-github",
        "colab_type": "text"
      },
      "source": [
        "<a href=\"https://colab.research.google.com/github/sandeepbansal0/Python-Projects/blob/main/Three_Digit_Puzzle.ipynb\" target=\"_parent\"><img src=\"https://colab.research.google.com/assets/colab-badge.svg\" alt=\"Open In Colab\"/></a>"
      ]
    },
    {
      "cell_type": "code",
      "execution_count": 2,
      "metadata": {
        "colab": {
          "base_uri": "https://localhost:8080/",
          "height": 35
        },
        "id": "UjZv2petJAGK",
        "outputId": "466e1f79-df68-4068-f261-6bf4b5b10498"
      },
      "outputs": [
        {
          "output_type": "execute_result",
          "data": {
            "text/plain": [
              "' A Three digit puzzle Game by Sandeep Bansal\\nA deductive logic game where you must guess a number based on clues.\\n'"
            ],
            "application/vnd.google.colaboratory.intrinsic+json": {
              "type": "string"
            }
          },
          "metadata": {},
          "execution_count": 2
        }
      ],
      "source": [
        "\"\"\" A Three digit puzzle Game by Sandeep Bansal\n",
        "A deductive logic game where you must guess a number based on clues.\n",
        "\"\"\""
      ]
    },
    {
      "cell_type": "code",
      "source": [
        "import random"
      ],
      "metadata": {
        "id": "mngVukxyJ_5o"
      },
      "execution_count": 3,
      "outputs": []
    },
    {
      "cell_type": "code",
      "source": [
        "NUM_DIGITS = 3\n",
        "MAX_GUESSES = 10\n",
        "\n",
        "def getSecretNum():\n",
        "  numbers = list('0123456789')\n",
        "  random.shuffle(numbers)\n",
        "\n",
        "  secretNum = ''\n",
        "  for i in range(NUM_DIGITS):\n",
        "    secretNum +=str(numbers[i])\n",
        "  return secretNum\n",
        "\n",
        "def getClues(guess, secretNum):\n",
        "  if guess == secretNum:\n",
        "    return \"You got it!\"\n",
        "\n",
        "  clues = []\n",
        "\n",
        "  for i in range(len(guess)):\n",
        "    if guess[i] == secretNum[i]:\n",
        "      clues.append('Fermi')\n",
        "    elif guess[i] in secretNum:\n",
        "      clues.append('Pico')\n",
        "\n",
        "  if len(clues) == 0:\n",
        "    return 'Bagles'\n",
        "  else:\n",
        "    clues.sort()\n",
        "    return ' '.join(clues)\n",
        "\n",
        "\n",
        "def main():\n",
        "  print('''Three digit puzzle game.\n",
        "By Sandeep Bansal\n",
        "\n",
        "I am thinking of a {}-digit number with no repeated digits.\n",
        "Try to guess what it is. Here are some clues:\n",
        "When I say:       That means:\n",
        "  Pico            One digit is correct but in the wrong position.\n",
        "  Fermi           One digit is correct and in the right position.\n",
        "  Bagles          No digit is correct.\n",
        "\n",
        "For example, if the scret number was 248 and your guess was 843, the clue would be Fermi Pico.'''.format(NUM_DIGITS))\n",
        "\n",
        "\n",
        "while True:\n",
        "  secretNum = getSecretNum()\n",
        "  print('I have thought of a number. ')\n",
        "  print('You have {} guesses to get it. ' .format(MAX_GUESSES))\n",
        "  numGuesses = 1\n",
        "  while numGuesses <= MAX_GUESSES:\n",
        "    guess = ''\n",
        "    while len(guess) != NUM_DIGITS or not guess.isdecimal():\n",
        "      print(\"Guess #{}: \".format(numGuesses))\n",
        "      guess = input('> ')\n",
        "\n",
        "\n",
        "    clues = getClues(guess,secretNum)\n",
        "    print(clues)\n",
        "    numGuesses += 1\n",
        "\n",
        "    if guess == secretNum:\n",
        "      break\n",
        "\n",
        "  if numGuesses > MAX_GUESSES:\n",
        "    print(\"You ran out of guesses. \")\n",
        "    print('The answer was {}. '.format(secretNum))\n",
        "\n",
        "  print(\"Do you want to play again? (yes or no)\")\n",
        "  if not input('> ').lower().startswith('y'):\n",
        "    break\n",
        "print('Thanks for playing!')\n",
        "\n",
        "if __name__ == '__main__':\n",
        "  main()"
      ],
      "metadata": {
        "colab": {
          "base_uri": "https://localhost:8080/"
        },
        "id": "f8i0yFXJKMAG",
        "outputId": "0d6ff352-54ea-4a53-8f3b-20586dd31c75"
      },
      "execution_count": 11,
      "outputs": [
        {
          "output_type": "stream",
          "name": "stdout",
          "text": [
            "I have thought of a number. \n",
            "You have 10 guesses to get it. \n",
            "Guess #1: \n",
            "> 123\n",
            "Fermi\n",
            "Guess #2: \n",
            "> 321\n",
            "Pico\n",
            "Guess #3: \n",
            "> 132\n",
            "Pico\n",
            "Guess #4: \n",
            "> 231\n",
            "Pico\n",
            "Guess #5: \n",
            "> 213\n",
            "Fermi\n",
            "Guess #6: \n",
            "> 245\n",
            "Fermi\n",
            "Guess #7: \n",
            "> 267\n",
            "Pico\n",
            "Guess #8: \n",
            "> 234\n",
            "Pico Pico\n",
            "Guess #9: \n",
            "> 287\n",
            "Pico\n",
            "Guess #10: \n",
            "> 233\n",
            "Fermi Pico\n",
            "You ran out of guesses. \n",
            "The answer was 743. \n",
            "Do you want to play again? (yes or no)\n",
            "> no\n",
            "Thanks for playing!\n",
            "Three digit puzzle game.\n",
            "By Sandeep Bansal\n",
            "\n",
            "I am thinking of a 3-digit number with no repeated digits.\n",
            "Try to guess what it is. Here are some clues:\n",
            "When I say:       That means:\n",
            "  Pico            One digit is correct but in the wrong position.\n",
            "  Fermi           One digit is correct and in the right position.\n",
            "  Bagles          No digit is correct.\n",
            "\n",
            "For example, if the scret number was 248 and your guess was 843, the clue would be Fermi Pico.\n"
          ]
        }
      ]
    },
    {
      "cell_type": "code",
      "source": [],
      "metadata": {
        "id": "9FEP8zUULOy5"
      },
      "execution_count": null,
      "outputs": []
    }
  ]
}