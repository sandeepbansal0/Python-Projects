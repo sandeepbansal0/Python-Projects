{
  "nbformat": 4,
  "nbformat_minor": 0,
  "metadata": {
    "colab": {
      "provenance": [],
      "authorship_tag": "ABX9TyNd2KVut7yYVM8HKT396H7s",
      "include_colab_link": true
    },
    "kernelspec": {
      "name": "python3",
      "display_name": "Python 3"
    },
    "language_info": {
      "name": "python"
    }
  },
  "cells": [
    {
      "cell_type": "markdown",
      "metadata": {
        "id": "view-in-github",
        "colab_type": "text"
      },
      "source": [
        "<a href=\"https://colab.research.google.com/github/sandeepbansal0/Python-Projects/blob/main/If%20%26%20While%20Loops.ipynb\" target=\"_parent\"><img src=\"https://colab.research.google.com/assets/colab-badge.svg\" alt=\"Open In Colab\"/></a>"
      ]
    },
    {
      "cell_type": "code",
      "source": [],
      "metadata": {
        "id": "9EBmxab1UUNj"
      },
      "execution_count": null,
      "outputs": []
    },
    {
      "cell_type": "markdown",
      "source": [
        "# If & While Loops\n",
        "\n",
        "What are *if* statements? What are *while* loops?\n",
        "\n",
        "- If statements allow you to examine the current state of a program and respond appropriately to that state. You can write a simple if statement that checks one condition, or you can create a complex series of if statements that identify the exact conditions you're looking for.\n",
        "\n",
        "\n",
        "- While loops run as long as certain conditions remain true. You can use while loops to let your program run as long as your users want them to."
      ],
      "metadata": {
        "id": "gMM_Leq_UZmE"
      }
    },
    {
      "cell_type": "markdown",
      "source": [
        "### Simple *If* statements\n",
        "\n",
        "- Several kinds of if statements exist. Your choice of which to use depends on the number of conditions you need to test. You can always have as many *elif* blocks as you need, and the else block is always optional."
      ],
      "metadata": {
        "id": "vfI39RvLVaQq"
      }
    },
    {
      "cell_type": "markdown",
      "source": [
        "#### if Statement Example:\n"
      ],
      "metadata": {
        "id": "OZ8m3J29WaO8"
      }
    },
    {
      "cell_type": "code",
      "source": [
        "age = 13\n",
        "\n",
        "if age >= 13:\n",
        "  print(\"You are a teenager!\")"
      ],
      "metadata": {
        "colab": {
          "base_uri": "https://localhost:8080/"
        },
        "id": "splNFFSSVeOJ",
        "outputId": "802516dd-7a7b-4f66-f4af-9667efc6153e"
      },
      "execution_count": null,
      "outputs": [
        {
          "output_type": "stream",
          "name": "stdout",
          "text": [
            "You are a teenager!\n"
          ]
        }
      ]
    },
    {
      "cell_type": "code",
      "source": [],
      "metadata": {
        "id": "hAplGOG-WL-w"
      },
      "execution_count": null,
      "outputs": []
    },
    {
      "cell_type": "markdown",
      "source": [
        "#### if-else Statement"
      ],
      "metadata": {
        "id": "FS4YSLZNWhFK"
      }
    },
    {
      "cell_type": "code",
      "source": [
        "age = 20\n",
        "\n",
        "if age <= 21:\n",
        "  print('You are not old enough to have alcohol')"
      ],
      "metadata": {
        "colab": {
          "base_uri": "https://localhost:8080/"
        },
        "id": "yuVy1jHkXEPl",
        "outputId": "b6e0fab3-140d-4f2f-d320-06d73ca26514"
      },
      "execution_count": null,
      "outputs": [
        {
          "output_type": "stream",
          "name": "stdout",
          "text": [
            "You are not old enough to have alcohol\n"
          ]
        }
      ]
    },
    {
      "cell_type": "code",
      "source": [],
      "metadata": {
        "id": "YM2avpf8W_F0"
      },
      "execution_count": null,
      "outputs": []
    },
    {
      "cell_type": "markdown",
      "source": [
        "#### if-elif-else Statement\n"
      ],
      "metadata": {
        "id": "RX47NxWFWhkU"
      }
    },
    {
      "cell_type": "code",
      "source": [
        "age = 21\n",
        "\n",
        "if age < 4:\n",
        "  price = 0\n",
        "elif age < 18:\n",
        "  price = 5\n",
        "else:\n",
        "  price = 10\n",
        "\n",
        "print(\"Your cost is $\" + str(price) + \".\")"
      ],
      "metadata": {
        "colab": {
          "base_uri": "https://localhost:8080/"
        },
        "id": "9WPOosZFXQHX",
        "outputId": "6849cb6d-631f-4123-d1f4-2c7cb720476c"
      },
      "execution_count": null,
      "outputs": [
        {
          "output_type": "stream",
          "name": "stdout",
          "text": [
            "Your cost is $10.\n"
          ]
        }
      ]
    },
    {
      "cell_type": "code",
      "source": [],
      "metadata": {
        "id": "L-nf_Ea5X4NR"
      },
      "execution_count": null,
      "outputs": []
    },
    {
      "cell_type": "markdown",
      "source": [
        "#### Testing if a value in a list:\n"
      ],
      "metadata": {
        "id": "2llzBND2WhtP"
      }
    },
    {
      "cell_type": "code",
      "source": [
        "players = ['al', 'bea', 'cyn', 'dale']\n",
        "\n",
        "print('al' in players)\n",
        "\n",
        "print('eric' in players)"
      ],
      "metadata": {
        "colab": {
          "base_uri": "https://localhost:8080/"
        },
        "id": "J44HY01TX-fF",
        "outputId": "0718c0fd-b4f2-4d71-9b55-aba1d728c302"
      },
      "execution_count": null,
      "outputs": [
        {
          "output_type": "stream",
          "name": "stdout",
          "text": [
            "True\n",
            "False\n"
          ]
        }
      ]
    },
    {
      "cell_type": "markdown",
      "source": [],
      "metadata": {
        "id": "DqGkUKgAX9b8"
      }
    },
    {
      "cell_type": "markdown",
      "source": [
        "#### Testing if value is NOT in a list"
      ],
      "metadata": {
        "id": "26nsLaDAYYol"
      }
    },
    {
      "cell_type": "code",
      "source": [
        "students = ['ann', 'chad', 'dee']\n",
        "\n",
        "user = 'erin'\n",
        "\n",
        "if user not in students:\n",
        "  print('You can play!')"
      ],
      "metadata": {
        "colab": {
          "base_uri": "https://localhost:8080/"
        },
        "id": "enHefroPX49c",
        "outputId": "264ed46f-1cdb-426b-8701-afabee5c26b3"
      },
      "execution_count": null,
      "outputs": [
        {
          "output_type": "stream",
          "name": "stdout",
          "text": [
            "You can play!\n"
          ]
        }
      ]
    },
    {
      "cell_type": "code",
      "source": [],
      "metadata": {
        "id": "jz-UOHTZZh28"
      },
      "execution_count": null,
      "outputs": []
    },
    {
      "cell_type": "markdown",
      "source": [
        "#### Checking if a list is empty:\n"
      ],
      "metadata": {
        "id": "s4J_faCxWhzm"
      }
    },
    {
      "cell_type": "code",
      "source": [
        "players = []\n",
        "\n",
        "if players:\n",
        "  for player in players:\n",
        "    print(\"Player: \" + player.title())\n",
        "else:\n",
        "  print(\"We have no players yet!\")"
      ],
      "metadata": {
        "colab": {
          "base_uri": "https://localhost:8080/"
        },
        "id": "MTjUqxRaY-Sf",
        "outputId": "77f113ef-6d19-4398-e93f-8a567417bc99"
      },
      "execution_count": null,
      "outputs": [
        {
          "output_type": "stream",
          "name": "stdout",
          "text": [
            "We have no players yet!\n"
          ]
        }
      ]
    },
    {
      "cell_type": "code",
      "source": [],
      "metadata": {
        "id": "BntoYOQ3ZWZo"
      },
      "execution_count": null,
      "outputs": []
    },
    {
      "cell_type": "markdown",
      "source": [
        "#### Accepting Input"
      ],
      "metadata": {
        "id": "y2j2jiIOZcvV"
      }
    },
    {
      "cell_type": "code",
      "source": [
        "name = input(\"What is your name? \")\n",
        "print(\"Hello, \" + name + '.')"
      ],
      "metadata": {
        "colab": {
          "base_uri": "https://localhost:8080/"
        },
        "id": "N2aAqK7KZNDE",
        "outputId": "896c7e12-01e3-4f31-db7c-074c67c10553"
      },
      "execution_count": null,
      "outputs": [
        {
          "output_type": "stream",
          "name": "stdout",
          "text": [
            "What is your name? Sandeep\n",
            "Hello, Sandeep.\n"
          ]
        }
      ]
    },
    {
      "cell_type": "code",
      "source": [],
      "metadata": {
        "id": "0DUGdCISZvtI"
      },
      "execution_count": null,
      "outputs": []
    },
    {
      "cell_type": "code",
      "source": [],
      "metadata": {
        "id": "9jAPGNAaZ_6E"
      },
      "execution_count": null,
      "outputs": []
    },
    {
      "cell_type": "markdown",
      "source": [
        "#### Accepting Numerical Input"
      ],
      "metadata": {
        "id": "CZAILev-Z0kl"
      }
    },
    {
      "cell_type": "code",
      "source": [
        "age = input(\"How old are you? \")\n",
        "\n",
        "age = int(age)\n",
        "\n",
        "if age >= 18:\n",
        "  print(\"\\nYou can vote!\")\n",
        "else:\n",
        "  print(\"\\n You can't vote yet.\")"
      ],
      "metadata": {
        "colab": {
          "base_uri": "https://localhost:8080/"
        },
        "id": "sclIULQZZ9Mq",
        "outputId": "ca237f7a-fe90-436b-eb7b-5ca862575008"
      },
      "execution_count": null,
      "outputs": [
        {
          "output_type": "stream",
          "name": "stdout",
          "text": [
            "How old are you? 18\n",
            "\n",
            "You can vote!\n"
          ]
        }
      ]
    },
    {
      "cell_type": "code",
      "source": [],
      "metadata": {
        "id": "cvGjJdn5aBlH"
      },
      "execution_count": null,
      "outputs": []
    },
    {
      "cell_type": "code",
      "source": [],
      "metadata": {
        "id": "YGa2KhGNZ7sV"
      },
      "execution_count": null,
      "outputs": []
    },
    {
      "cell_type": "code",
      "source": [],
      "metadata": {
        "id": "8Alf6hbgZ7aJ"
      },
      "execution_count": null,
      "outputs": []
    },
    {
      "cell_type": "markdown",
      "source": [
        "# While Loops"
      ],
      "metadata": {
        "id": "BaP2VY1jZ1G_"
      }
    },
    {
      "cell_type": "code",
      "source": [
        "current_number = 1\n",
        "\n",
        "while current_number <= 5:\n",
        "  print(current_number)\n",
        "  current_number +=1"
      ],
      "metadata": {
        "colab": {
          "base_uri": "https://localhost:8080/"
        },
        "id": "na2zoP9yaq2m",
        "outputId": "c84c3534-d34e-4feb-d220-a21a70e1abd7"
      },
      "execution_count": null,
      "outputs": [
        {
          "output_type": "stream",
          "name": "stdout",
          "text": [
            "1\n",
            "2\n",
            "3\n",
            "4\n",
            "5\n"
          ]
        }
      ]
    },
    {
      "cell_type": "code",
      "source": [],
      "metadata": {
        "id": "F687yZ5Ra6bv"
      },
      "execution_count": null,
      "outputs": []
    },
    {
      "cell_type": "markdown",
      "source": [
        "#### While Loop: Letting user choose when to quit\n",
        "\n",
        "---\n",
        "\n"
      ],
      "metadata": {
        "id": "e-P5j7RJZ1Mi"
      }
    },
    {
      "cell_type": "code",
      "source": [
        "prompt = \"\\n Tell me something and I'll \"\n",
        "prompt += \"repeat it back to you.\"\n",
        "prompt += \"\\n Enter 'quit' to end the program. \"\n",
        "\n",
        "message = \"\"\n",
        "\n",
        "while message != 'quit':\n",
        "  message = input(prompt)\n",
        "\n",
        "if message != 'quit':\n",
        "  print(message)"
      ],
      "metadata": {
        "colab": {
          "base_uri": "https://localhost:8080/"
        },
        "id": "dDk7j0WebBTE",
        "outputId": "01180f8f-5753-4787-b7e4-1c94cd81c4c3"
      },
      "execution_count": null,
      "outputs": [
        {
          "name": "stdout",
          "output_type": "stream",
          "text": [
            "\n",
            " Tell me something and I'll repeat it back to you.\n",
            " Enter 'quit' to end the program. hello\n",
            "\n",
            " Tell me something and I'll repeat it back to you.\n",
            " Enter 'quit' to end the program. hello\n",
            "\n",
            " Tell me something and I'll repeat it back to you.\n",
            " Enter 'quit' to end the program. quit\n"
          ]
        }
      ]
    },
    {
      "cell_type": "code",
      "source": [],
      "metadata": {
        "id": "NA5uiy57ccZl"
      },
      "execution_count": null,
      "outputs": []
    },
    {
      "cell_type": "markdown",
      "source": [
        "#### Using a flag"
      ],
      "metadata": {
        "id": "tbjAQcq_Z1QA"
      }
    },
    {
      "cell_type": "code",
      "source": [
        "prompt = \"\\n Tell me something and I'll \"\n",
        "prompt += \"repeat it back to you.\"\n",
        "prompt += \"\\n Enter 'quit' to end the program. \"\n",
        "\n",
        "active = True\n",
        "\n",
        "while active:\n",
        "  message = input(prompt)\n",
        "if message != 'quit':\n",
        "  active = False\n",
        "else:\n",
        "  print(message)"
      ],
      "metadata": {
        "id": "uUrn4siKckZk"
      },
      "execution_count": null,
      "outputs": []
    },
    {
      "cell_type": "code",
      "source": [],
      "metadata": {
        "id": "Uoy6HSF-dSN3"
      },
      "execution_count": null,
      "outputs": []
    },
    {
      "cell_type": "markdown",
      "source": [
        "#### Using break to exit a loop"
      ],
      "metadata": {
        "id": "QNTDB5xHZ1TH"
      }
    },
    {
      "cell_type": "code",
      "source": [
        "prompt = \"\\nWhat cities have you visited?\"\n",
        "\n",
        "prompt += \"\\nEnter 'quit' when you're done. \"\n",
        "\n",
        "while True:\n",
        "  city = input(prompt)\n",
        "\n",
        "  if city == 'quit':\n",
        "    break\n",
        "  else:\n",
        "    print(\"I've been to \" + city + \"!\")"
      ],
      "metadata": {
        "id": "0kcDAbSlZttf",
        "colab": {
          "base_uri": "https://localhost:8080/"
        },
        "outputId": "20a76d80-7754-45b2-971c-440a97b2e8a2"
      },
      "execution_count": 24,
      "outputs": [
        {
          "name": "stdout",
          "output_type": "stream",
          "text": [
            "\n",
            "What cities have you visited?\n",
            "Enter 'quit' when you're done. Arlington\n",
            "I've been to Arlington!\n",
            "\n",
            "What cities have you visited?\n",
            "Enter 'quit' when you're done. Falls Church\n",
            "I've been to Falls Church!\n",
            "\n",
            "What cities have you visited?\n",
            "Enter 'quit' when you're done. quit\n"
          ]
        }
      ]
    },
    {
      "cell_type": "code",
      "source": [],
      "metadata": {
        "id": "iz4YgnnvgnUC"
      },
      "execution_count": null,
      "outputs": []
    },
    {
      "cell_type": "markdown",
      "source": [
        "#### Using continue in a while loop"
      ],
      "metadata": {
        "id": "b54Uy9APhCN6"
      }
    },
    {
      "cell_type": "code",
      "source": [
        "users = ['eve', 'fred', 'gary', 'helen' ]\n",
        "\n",
        "prompt = \"\\nAdd a player to your team.\"\n",
        "prompt += \"\\n Enter 'quit' when you're done. \"\n",
        "\n",
        "players = []\n",
        "\n",
        "while True:\n",
        "  player = input(prompt)\n",
        "  if player == 'quit':\n",
        "    break\n",
        "  elif player in users:\n",
        "    print(player + \" is banned!\")\n",
        "    continue\n",
        "  else:\n",
        "    players.append(player)\n",
        "\n",
        "print(\"\\nYour team: \")\n",
        "for player in players:\n",
        "  print(player)"
      ],
      "metadata": {
        "colab": {
          "base_uri": "https://localhost:8080/"
        },
        "id": "ce5ZglnOhHq2",
        "outputId": "f5aaddff-6940-4654-cce0-5be9001164f0"
      },
      "execution_count": 26,
      "outputs": [
        {
          "output_type": "stream",
          "name": "stdout",
          "text": [
            "\n",
            "Add a player to your team.\n",
            " Enter 'quit' when you're done. person\n",
            "\n",
            "Add a player to your team.\n",
            " Enter 'quit' when you're done. person2\n",
            "\n",
            "Add a player to your team.\n",
            " Enter 'quit' when you're done. quit\n",
            "\n",
            "Your team: \n",
            "person\n",
            "person2\n"
          ]
        }
      ]
    },
    {
      "cell_type": "code",
      "source": [],
      "metadata": {
        "id": "FCO0ILGthfmQ"
      },
      "execution_count": null,
      "outputs": []
    }
  ]
}